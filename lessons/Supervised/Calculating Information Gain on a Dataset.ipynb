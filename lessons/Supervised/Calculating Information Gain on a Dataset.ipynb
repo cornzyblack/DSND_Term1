{
 "cells": [
  {
   "cell_type": "code",
   "execution_count": 1,
   "metadata": {},
   "outputs": [],
   "source": [
    "import numpy as np\n",
    "import pandas as pd"
   ]
  },
  {
   "cell_type": "code",
   "execution_count": 2,
   "metadata": {},
   "outputs": [],
   "source": [
    "bugs = pd.read_csv('ml-bugs.csv')"
   ]
  },
  {
   "cell_type": "code",
   "execution_count": 3,
   "metadata": {},
   "outputs": [
    {
     "data": {
      "text/plain": [
       "14"
      ]
     },
     "execution_count": 3,
     "metadata": {},
     "output_type": "execute_result"
    }
   ],
   "source": [
    "len(bugs[bugs.Species == 'Lobug'])"
   ]
  },
  {
   "cell_type": "code",
   "execution_count": 4,
   "metadata": {},
   "outputs": [],
   "source": [
    "# Get total Entropy for Parent\n",
    "total_bugs = bugs.shape[0] \n",
    "len_mobug = (bugs[bugs.Species == 'Mobug']).shape[0]\n",
    "len_lobug = (bugs[bugs.Species == 'Lobug']).shape[0]\n",
    "bugs = bugs.rename(index=str, columns={\"Length (mm)\": \"length\"})"
   ]
  },
  {
   "cell_type": "code",
   "execution_count": 37,
   "metadata": {},
   "outputs": [
    {
     "data": {
      "text/html": [
       "<div>\n",
       "<style scoped>\n",
       "    .dataframe tbody tr th:only-of-type {\n",
       "        vertical-align: middle;\n",
       "    }\n",
       "\n",
       "    .dataframe tbody tr th {\n",
       "        vertical-align: top;\n",
       "    }\n",
       "\n",
       "    .dataframe thead th {\n",
       "        text-align: right;\n",
       "    }\n",
       "</style>\n",
       "<table border=\"1\" class=\"dataframe\">\n",
       "  <thead>\n",
       "    <tr style=\"text-align: right;\">\n",
       "      <th></th>\n",
       "      <th>Species</th>\n",
       "      <th>Color</th>\n",
       "      <th>length</th>\n",
       "    </tr>\n",
       "  </thead>\n",
       "  <tbody>\n",
       "    <tr>\n",
       "      <th>0</th>\n",
       "      <td>Mobug</td>\n",
       "      <td>Brown</td>\n",
       "      <td>11.6</td>\n",
       "    </tr>\n",
       "    <tr>\n",
       "      <th>1</th>\n",
       "      <td>Mobug</td>\n",
       "      <td>Blue</td>\n",
       "      <td>16.3</td>\n",
       "    </tr>\n",
       "    <tr>\n",
       "      <th>2</th>\n",
       "      <td>Lobug</td>\n",
       "      <td>Blue</td>\n",
       "      <td>15.1</td>\n",
       "    </tr>\n",
       "    <tr>\n",
       "      <th>3</th>\n",
       "      <td>Lobug</td>\n",
       "      <td>Green</td>\n",
       "      <td>23.7</td>\n",
       "    </tr>\n",
       "    <tr>\n",
       "      <th>4</th>\n",
       "      <td>Lobug</td>\n",
       "      <td>Blue</td>\n",
       "      <td>18.4</td>\n",
       "    </tr>\n",
       "    <tr>\n",
       "      <th>5</th>\n",
       "      <td>Lobug</td>\n",
       "      <td>Brown</td>\n",
       "      <td>17.1</td>\n",
       "    </tr>\n",
       "    <tr>\n",
       "      <th>6</th>\n",
       "      <td>Mobug</td>\n",
       "      <td>Brown</td>\n",
       "      <td>15.7</td>\n",
       "    </tr>\n",
       "    <tr>\n",
       "      <th>7</th>\n",
       "      <td>Lobug</td>\n",
       "      <td>Green</td>\n",
       "      <td>18.6</td>\n",
       "    </tr>\n",
       "    <tr>\n",
       "      <th>8</th>\n",
       "      <td>Lobug</td>\n",
       "      <td>Blue</td>\n",
       "      <td>22.9</td>\n",
       "    </tr>\n",
       "    <tr>\n",
       "      <th>9</th>\n",
       "      <td>Lobug</td>\n",
       "      <td>Blue</td>\n",
       "      <td>21.0</td>\n",
       "    </tr>\n",
       "    <tr>\n",
       "      <th>10</th>\n",
       "      <td>Lobug</td>\n",
       "      <td>Blue</td>\n",
       "      <td>20.5</td>\n",
       "    </tr>\n",
       "    <tr>\n",
       "      <th>11</th>\n",
       "      <td>Mobug</td>\n",
       "      <td>Green</td>\n",
       "      <td>21.2</td>\n",
       "    </tr>\n",
       "    <tr>\n",
       "      <th>12</th>\n",
       "      <td>Mobug</td>\n",
       "      <td>Brown</td>\n",
       "      <td>13.8</td>\n",
       "    </tr>\n",
       "    <tr>\n",
       "      <th>13</th>\n",
       "      <td>Lobug</td>\n",
       "      <td>Blue</td>\n",
       "      <td>14.5</td>\n",
       "    </tr>\n",
       "    <tr>\n",
       "      <th>14</th>\n",
       "      <td>Lobug</td>\n",
       "      <td>Green</td>\n",
       "      <td>24.8</td>\n",
       "    </tr>\n",
       "    <tr>\n",
       "      <th>15</th>\n",
       "      <td>Mobug</td>\n",
       "      <td>Brown</td>\n",
       "      <td>18.2</td>\n",
       "    </tr>\n",
       "    <tr>\n",
       "      <th>16</th>\n",
       "      <td>Lobug</td>\n",
       "      <td>Green</td>\n",
       "      <td>17.9</td>\n",
       "    </tr>\n",
       "    <tr>\n",
       "      <th>17</th>\n",
       "      <td>Lobug</td>\n",
       "      <td>Green</td>\n",
       "      <td>22.7</td>\n",
       "    </tr>\n",
       "    <tr>\n",
       "      <th>18</th>\n",
       "      <td>Mobug</td>\n",
       "      <td>Green</td>\n",
       "      <td>19.9</td>\n",
       "    </tr>\n",
       "    <tr>\n",
       "      <th>19</th>\n",
       "      <td>Mobug</td>\n",
       "      <td>Blue</td>\n",
       "      <td>14.6</td>\n",
       "    </tr>\n",
       "    <tr>\n",
       "      <th>20</th>\n",
       "      <td>Mobug</td>\n",
       "      <td>Blue</td>\n",
       "      <td>19.2</td>\n",
       "    </tr>\n",
       "    <tr>\n",
       "      <th>21</th>\n",
       "      <td>Lobug</td>\n",
       "      <td>Brown</td>\n",
       "      <td>14.1</td>\n",
       "    </tr>\n",
       "    <tr>\n",
       "      <th>22</th>\n",
       "      <td>Lobug</td>\n",
       "      <td>Green</td>\n",
       "      <td>18.8</td>\n",
       "    </tr>\n",
       "    <tr>\n",
       "      <th>23</th>\n",
       "      <td>Mobug</td>\n",
       "      <td>Blue</td>\n",
       "      <td>13.1</td>\n",
       "    </tr>\n",
       "  </tbody>\n",
       "</table>\n",
       "</div>"
      ],
      "text/plain": [
       "   Species  Color  length\n",
       "0    Mobug  Brown    11.6\n",
       "1    Mobug   Blue    16.3\n",
       "2    Lobug   Blue    15.1\n",
       "3    Lobug  Green    23.7\n",
       "4    Lobug   Blue    18.4\n",
       "5    Lobug  Brown    17.1\n",
       "6    Mobug  Brown    15.7\n",
       "7    Lobug  Green    18.6\n",
       "8    Lobug   Blue    22.9\n",
       "9    Lobug   Blue    21.0\n",
       "10   Lobug   Blue    20.5\n",
       "11   Mobug  Green    21.2\n",
       "12   Mobug  Brown    13.8\n",
       "13   Lobug   Blue    14.5\n",
       "14   Lobug  Green    24.8\n",
       "15   Mobug  Brown    18.2\n",
       "16   Lobug  Green    17.9\n",
       "17   Lobug  Green    22.7\n",
       "18   Mobug  Green    19.9\n",
       "19   Mobug   Blue    14.6\n",
       "20   Mobug   Blue    19.2\n",
       "21   Lobug  Brown    14.1\n",
       "22   Lobug  Green    18.8\n",
       "23   Mobug   Blue    13.1"
      ]
     },
     "execution_count": 37,
     "metadata": {},
     "output_type": "execute_result"
    }
   ],
   "source": [
    "bugs"
   ]
  },
  {
   "cell_type": "code",
   "execution_count": 6,
   "metadata": {},
   "outputs": [],
   "source": [
    "def get_entropy(first, total):\n",
    "    return (-first/total * (np.log2(first/total)) + (first-total)/total * np.log2((total-first)/total))"
   ]
  },
  {
   "cell_type": "code",
   "execution_count": 10,
   "metadata": {},
   "outputs": [
    {
     "name": "stdout",
     "output_type": "stream",
     "text": [
      "The Parent entropy is 0.98\n"
     ]
    }
   ],
   "source": [
    "parent_entropy = get_entropy(len_mobug, total_bugs)  \n",
    "print('The Parent entropy is {:.2f}'.format(parent_entropy))\n"
   ]
  },
  {
   "cell_type": "code",
   "execution_count": 84,
   "metadata": {},
   "outputs": [],
   "source": [
    "bugs_g17 = bugs[bugs.length > 17.0]\n",
    "bugs_g17_length = len(bugs_g17) \n",
    "bugs_l17 = bugs[bugs.length < 17.0]\n",
    "bugs_l17_length = len(bugs_l17) \n",
    "\n",
    "bugs_g20 = bugs[bugs.length > 20.0]\n",
    "bugs_g20_length = len(bugs_g20) \n",
    "bugs_l20 = bugs[bugs.length < 20.0]\n",
    "bugs_l20_length = len(bugs_l20) \n",
    "\n",
    "bugs_color_blue = bugs[bugs.Color == 'Blue']\n",
    "bugs_color_blue_length = len(bugs_color_blue)\n",
    "bugs_color_nblue = bugs[bugs.Color != 'Blue']\n",
    "bugs_color_nblue_length = len(bugs_color_nblue)\n",
    "\n",
    "bugs_color_brown = bugs[bugs.Color == 'Brown']\n",
    "bugs_color_brown_length = len(bugs_color_brown)\n",
    "bugs_color_nbrown = bugs[bugs.Color != 'Brown']\n",
    "bugs_color_nbrown_length = len(bugs_color_nbrown)\n",
    "\n",
    "bugs_color_green = bugs[bugs.Color == 'Green']\n",
    "bugs_color_green_length = len(bugs_color_green)\n",
    "bugs_color_ngreen = bugs[bugs.Color != 'Green']\n",
    "bugs_color_ngreen_length = len(bugs_color_ngreen)"
   ]
  },
  {
   "cell_type": "code",
   "execution_count": null,
   "metadata": {},
   "outputs": [],
   "source": []
  },
  {
   "cell_type": "code",
   "execution_count": 88,
   "metadata": {},
   "outputs": [],
   "source": [
    "bugs_l17_M = len(bugs_l17[bugs_l17.Species =='Mobug'])\n",
    "bugs_l17_L = bugs_l17_length - bugs_l17_M\n",
    "bugs_g17_M = len(bugs_g17[bugs_g17.Species =='Mobug'])\n",
    "bugs_g17_L = bugs_g17_length - bugs_g17_M\n",
    "\n",
    "bugs_g20_M = len(bugs_g20[bugs_g20.Species =='Mobug'])\n",
    "bugs_g20_L = bugs_g20_length - bugs_g20_M\n",
    "bugs_l20_M = len(bugs_l20[bugs_l20.Species =='Mobug'])\n",
    "bugs_l20_L = bugs_l20_length - bugs_l20_M\n",
    "\n",
    "bugs_color_blue_M = len(bugs_color_blue[bugs_color_blue.Species =='Mobug'])\n",
    "bugs_color_blue_L = bugs_color_blue_length - bugs_color_blue_M\n",
    "bugs_color_nblue_M = len(bugs_color_nblue[bugs_color_nblue.Species =='Mobug'])\n",
    "bugs_color_nblue_L = bugs_color_nblue_length - bugs_color_nblue_M\n",
    "\n",
    "bugs_color_brown_M = len(bugs_color_brown[bugs_color_brown.Species =='Mobug'])\n",
    "bugs_color_brown_L = bugs_color_brown_length - bugs_color_brown_M\n",
    "bugs_color_nbrown_M = len(bugs_color_nbrown[bugs_color_nbrown.Species =='Mobug'])\n",
    "bugs_color_nbrown_L = bugs_color_nbrown_length - bugs_color_nbrown_M\n",
    "\n",
    "bugs_color_green_M = len(bugs_color_green[bugs_color_green.Species =='Mobug'])\n",
    "bugs_color_green_L = bugs_color_green_length - bugs_color_green_M\n",
    "bugs_color_ngreen_M = len(bugs_color_ngreen[bugs_color_ngreen.Species =='Mobug'])\n",
    "bugs_color_ngreen_L = bugs_color_ngreen_length - bugs_color_ngreen_M"
   ]
  },
  {
   "cell_type": "code",
   "execution_count": 101,
   "metadata": {},
   "outputs": [
    {
     "name": "stdout",
     "output_type": "stream",
     "text": [
      "The information gain for Color = ['Blue'] is 0.00059\n"
     ]
    }
   ],
   "source": [
    "entropy_color_blue = get_entropy(bugs_color_blue_M, bugs_color_blue_length)\n",
    "entropy_color_nblue = get_entropy(bugs_color_nblue_L, bugs_color_nblue_length)\n",
    "color_blue = parent_entropy - ((bugs_color_blue_length/total_bugs) * entropy_color_blue \n",
    "                               + (bugs_color_nblue_length/total_bugs)*entropy_color_nblue)\n",
    "print(\"The information gain for Color = ['Blue'] is {:.5f}\".format(color_blue))"
   ]
  },
  {
   "cell_type": "code",
   "execution_count": 104,
   "metadata": {},
   "outputs": [
    {
     "name": "stdout",
     "output_type": "stream",
     "text": [
      "The information gain for Color = ['Brown'] is 0.06157\n"
     ]
    }
   ],
   "source": [
    "entropy_color_brown = get_entropy(bugs_color_brown_M, bugs_color_brown_length)\n",
    "entropy_color_nbrown = get_entropy(bugs_color_nbrown_L, bugs_color_nbrown_length)\n",
    "color_brown = parent_entropy - ((bugs_color_brown_length/total_bugs) * entropy_color_brown \n",
    "                                + (bugs_color_nbrown_length/total_bugs)*entropy_color_nbrown)\n",
    "print(\"The information gain for Color = ['Brown'] is {:.5f}\".format(color_brown))"
   ]
  },
  {
   "cell_type": "code",
   "execution_count": 103,
   "metadata": {},
   "outputs": [
    {
     "name": "stdout",
     "output_type": "stream",
     "text": [
      "The information gain for Color = ['green'] is 0.042776\n"
     ]
    }
   ],
   "source": [
    "entropy_color_green = get_entropy(bugs_color_green_M, bugs_color_green_length)\n",
    "entropy_color_ngreen = get_entropy(bugs_color_ngreen_L, bugs_color_ngreen_length)\n",
    "color_green = parent_entropy - ((bugs_color_green_length/24) * entropy_color_green \n",
    "                                + (bugs_color_ngreen_length/24)*entropy_color_ngreen)\n",
    "print(\"The information gain for Color = ['green'] is {:.6f}\".format(color_green))"
   ]
  },
  {
   "cell_type": "code",
   "execution_count": 95,
   "metadata": {},
   "outputs": [
    {
     "name": "stdout",
     "output_type": "stream",
     "text": [
      "The information gain for Length < 17.0 is 0.11261\n"
     ]
    }
   ],
   "source": [
    "entropy_l17 = get_entropy(bugs_l17_M, bugs_l17_length)\n",
    "entropy_g17 = get_entropy(bugs_g17_M, bugs_g17_length)\n",
    "l_17 = parent_entropy - ((bugs_g17_length/total_bugs) * entropy_g17 + (bugs_l17_length/total_bugs)*entropy_l17)\n",
    "print(\"The information gain for Length < 17.0 is {:.5f}\".format(l_17))"
   ]
  },
  {
   "cell_type": "code",
   "execution_count": 96,
   "metadata": {},
   "outputs": [
    {
     "name": "stdout",
     "output_type": "stream",
     "text": [
      "The information gain for Length > 20.0 is 0.10073\n"
     ]
    }
   ],
   "source": [
    "entropy_l20 = get_entropy(bugs_l20_M, bugs_l20_length)\n",
    "entropy_g20 = get_entropy(bugs_g20_M, bugs_g20_length)\n",
    "g_20 = parent_entropy - ((bugs_g20_length/total_bugs) * entropy_g20 + (bugs_l20_length/total_bugs)*entropy_l20)\n",
    "print(\"The information gain for Length > 20.0 is {:.5f}\".format(g_20))"
   ]
  },
  {
   "cell_type": "code",
   "execution_count": null,
   "metadata": {},
   "outputs": [],
   "source": []
  }
 ],
 "metadata": {
  "kernelspec": {
   "display_name": "Python 3",
   "language": "python",
   "name": "python3"
  },
  "language_info": {
   "codemirror_mode": {
    "name": "ipython",
    "version": 3
   },
   "file_extension": ".py",
   "mimetype": "text/x-python",
   "name": "python",
   "nbconvert_exporter": "python",
   "pygments_lexer": "ipython3",
   "version": "3.6.5"
  }
 },
 "nbformat": 4,
 "nbformat_minor": 2
}
